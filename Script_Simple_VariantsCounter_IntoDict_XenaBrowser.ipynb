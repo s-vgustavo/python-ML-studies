{
  "nbformat": 4,
  "nbformat_minor": 0,
  "metadata": {
    "colab": {
      "name": "Script para contagem de mutações em dados do UCSF XenaBrowser",
      "provenance": [],
      "authorship_tag": "ABX9TyMxdtrY6crOKRDjHAHzPFu6",
      "include_colab_link": true
    },
    "kernelspec": {
      "name": "python3",
      "display_name": "Python 3"
    },
    "language_info": {
      "name": "python"
    }
  },
  "cells": [
    {
      "cell_type": "markdown",
      "metadata": {
        "id": "view-in-github",
        "colab_type": "text"
      },
      "source": [
        "<a href=\"https://colab.research.google.com/github/s-vgustavo/python-ML-studies/blob/main/Script_Simple_VariantsCounter_IntoDict_XenaBrowser.ipynb\" target=\"_parent\"><img src=\"https://colab.research.google.com/assets/colab-badge.svg\" alt=\"Open In Colab\"/></a>"
      ]
    },
    {
      "cell_type": "code",
      "execution_count": null,
      "metadata": {
        "colab": {
          "base_uri": "https://localhost:8080/"
        },
        "id": "ShZbMywWgiKE",
        "outputId": "45312be8-f08b-404b-a7c9-ccc174e52e06"
      },
      "outputs": [
        {
          "output_type": "stream",
          "name": "stdout",
          "text": [
            "Mounted at /content/gdrive\n"
          ]
        }
      ],
      "source": [
        "from google.colab import drive\n",
        "drive.mount('/content/gdrive')"
      ]
    },
    {
      "cell_type": "code",
      "source": [
        "# original script used to count mutations in a single file - multiple dictionaries\n",
        "with open(\"/content/gdrive/MyDrive/TCC Gustavo/Materiais/XenaBrowser - dados recuperados de mutações/Demetilases - dados recuperados de mutações/KDM1B.tsv\", \"r\") as f:\n",
        "  myfile = f.read()\n",
        "  mutations_type = [\"3'Flank\",\n",
        "                  \"3'UTR\",\n",
        "                  \"5'Flank\",\n",
        "                  \"5'UTR\",\n",
        "                  \"Frame_Shift_Del\",\n",
        "                  \"Frame_Shift_Ins\",\n",
        "                  \"In_Frame_Del\",\n",
        "                  \"In_Frame_Ins\",\n",
        "                  \"Intron\",\n",
        "                  \"Missense_Mutation\",\n",
        "                  \"Nonsense_Mutation\",\n",
        "                  \"Nonstop_Mutation\",\n",
        "                  \"Silent\",\n",
        "                  \"Splice_Site\",\n",
        "                  \"Translation_Start_Site\"]\n",
        "  for eachtype in mutations_type:\n",
        "    mutationdict = {}\n",
        "    counted = myfile.count(eachtype)\n",
        "    mutationdict[eachtype] = counted\n",
        "    print(mutationdict)\n",
        "\n",
        "\n"
      ],
      "metadata": {
        "colab": {
          "base_uri": "https://localhost:8080/"
        },
        "id": "4TdUHnRPzelK",
        "outputId": "e03c0df4-492e-42e5-cacd-33aa5f2b16f4"
      },
      "execution_count": null,
      "outputs": [
        {
          "output_type": "stream",
          "name": "stdout",
          "text": [
            "{\"3'Flank\": 0}\n",
            "{\"3'UTR\": 52}\n",
            "{\"5'Flank\": 0}\n",
            "{\"5'UTR\": 0}\n",
            "{'Frame_Shift_Del': 5}\n",
            "{'Frame_Shift_Ins': 1}\n",
            "{'In_Frame_Del': 0}\n",
            "{'In_Frame_Ins': 0}\n",
            "{'Intron': 13}\n",
            "{'Missense_Mutation': 73}\n",
            "{'Nonsense_Mutation': 10}\n",
            "{'Nonstop_Mutation': 0}\n",
            "{'Silent': 25}\n",
            "{'Splice_Site': 2}\n",
            "{'Translation_Start_Site': 0}\n"
          ]
        }
      ]
    },
    {
      "cell_type": "code",
      "source": [
        "# original script used to count mutations in a single file - single dictionary\n",
        "with open(\"/content/gdrive/MyDrive/TCC Gustavo/Materiais/XenaBrowser - dados recuperados de mutações/Demetilases - dados recuperados de mutações/KDM1B.tsv\", \"r\") as f:\n",
        "  myfile = f.read()\n",
        "  mutations_type = [\"3'Flank\",\n",
        "                  \"3'UTR\",\n",
        "                  \"5'Flank\",\n",
        "                  \"5'UTR\",\n",
        "                  \"Frame_Shift_Del\",\n",
        "                  \"Frame_Shift_Ins\",\n",
        "                  \"In_Frame_Del\",\n",
        "                  \"In_Frame_Ins\",\n",
        "                  \"Intron\",\n",
        "                  \"Missense_Mutation\",\n",
        "                  \"Nonsense_Mutation\",\n",
        "                  \"Nonstop_Mutation\",\n",
        "                  \"Silent\",\n",
        "                  \"Splice_Site\",\n",
        "                  \"Translation_Start_Site\"]\n",
        "  mutationdict = {}\n",
        "  for eachtype in mutations_type:\n",
        "    counted = myfile.count(eachtype)\n",
        "    mutationdict[eachtype] = counted\n",
        "  print(mutationdict)\n",
        "\n",
        "\n"
      ],
      "metadata": {
        "colab": {
          "base_uri": "https://localhost:8080/"
        },
        "outputId": "9b255aa3-e61c-45c5-bf26-3df29647a704",
        "id": "yKznzHW9tkZS"
      },
      "execution_count": null,
      "outputs": [
        {
          "output_type": "stream",
          "name": "stdout",
          "text": [
            "{\"3'Flank\": 0, \"3'UTR\": 52, \"5'Flank\": 0, \"5'UTR\": 0, 'Frame_Shift_Del': 5, 'Frame_Shift_Ins': 1, 'In_Frame_Del': 0, 'In_Frame_Ins': 0, 'Intron': 13, 'Missense_Mutation': 73, 'Nonsense_Mutation': 10, 'Nonstop_Mutation': 0, 'Silent': 25, 'Splice_Site': 2, 'Translation_Start_Site': 0}\n"
          ]
        }
      ]
    },
    {
      "cell_type": "code",
      "source": [
        "# reading a whole folder and storing mutation count into 1 dict/mutation/gene\n",
        "import os\n",
        "path = \"/content/gdrive/MyDrive/TCC Gustavo/Materiais/XenaBrowser - dados recuperados de mutações/Metilases - dados recuperados de mutações\"\n",
        "#os.chdir(path)\n",
        "\n",
        "for file in os.listdir():\n",
        "    f_name, f_ext = os.path.splitext(file)\n",
        "    print(f_name)\n",
        "    file_path = f\"{path}/{file}\"\n",
        "\n",
        "    with open(file_path, 'r') as f:\n",
        "          myfile = f.read()\n",
        "          mutations_type = [\"3'Flank\",\n",
        "                          \"3'UTR\",\n",
        "                          \"5'Flank\",\n",
        "                          \"5'UTR\",\n",
        "                          \"Frame_Shift_Del\",\n",
        "                          \"Frame_Shift_Ins\",\n",
        "                          \"In_Frame_Del\",\n",
        "                          \"In_Frame_Ins\",\n",
        "                          \"Intron\",\n",
        "                          \"Missense_Mutation\",\n",
        "                          \"Nonsense_Mutation\",\n",
        "                          \"Nonstop_Mutation\",\n",
        "                          \"Silent\",\n",
        "                          \"Splice_Site\",\n",
        "                          \"Translation_Start_Site\"]\n",
        "          for eachtype in mutations_type:\n",
        "            mutationdict = {}\n",
        "            counted = myfile.count(eachtype)\n",
        "            mutationdict[eachtype] = counted\n",
        "            print(mutationdict)\n",
        "             \n",
        "\n"
      ],
      "metadata": {
        "id": "pObzBvm22XEl"
      },
      "execution_count": null,
      "outputs": []
    },
    {
      "cell_type": "code",
      "source": [
        "#1 dictionary/gene\n",
        "import os\n",
        "\n",
        "path = \"/content/gdrive/MyDrive/TCC Gustavo/Materiais/XenaBrowser - dados recuperados de mutações/Demetilases - dados recuperados de mutações\"\n",
        "os.chdir(path)\n",
        "\n",
        "for file in os.listdir():\n",
        "    f_name, f_ext = os.path.splitext(file)\n",
        "    print(f_name)\n",
        "    file_path = f\"{path}/{file}\"\n",
        "\n",
        "    with open(file_path, 'r') as f:\n",
        "          myfile = f.read()\n",
        "          mutations_type = [\"3'Flank\",\n",
        "                          \"3'UTR\",\n",
        "                          \"5'Flank\",\n",
        "                          \"5'UTR\",\n",
        "                          \"Frame_Shift_Del\",\n",
        "                          \"Frame_Shift_Ins\",\n",
        "                          \"In_Frame_Del\",\n",
        "                          \"In_Frame_Ins\",\n",
        "                          \"Intron\",\n",
        "                          \"Missense_Mutation\",\n",
        "                          \"Nonsense_Mutation\",\n",
        "                          \"Nonstop_Mutation\",\n",
        "                          \"Silent\",\n",
        "                          \"Splice_Site\",\n",
        "                          \"Translation_Start_Site\"]\n",
        "          mutationdict = {\"Gene symbol\":f_name}\n",
        "          for eachtype in mutations_type:\n",
        "            counted = myfile.count(eachtype)\n",
        "            mutationdict[eachtype] = counted\n",
        "          print(mutationdict)\n",
        "       \n",
        "\n"
      ],
      "metadata": {
        "colab": {
          "base_uri": "https://localhost:8080/"
        },
        "outputId": "076d48da-d13f-49ae-dd6f-a967dd4c8981",
        "id": "1V1lurvlvb8Q"
      },
      "execution_count": null,
      "outputs": [
        {
          "output_type": "stream",
          "name": "stdout",
          "text": [
            "KDM1B\n",
            "{'Gene symbol': 'KDM1B', \"3'Flank\": 0, \"3'UTR\": 52, \"5'Flank\": 0, \"5'UTR\": 0, 'Frame_Shift_Del': 5, 'Frame_Shift_Ins': 1, 'In_Frame_Del': 0, 'In_Frame_Ins': 0, 'Intron': 13, 'Missense_Mutation': 73, 'Nonsense_Mutation': 10, 'Nonstop_Mutation': 0, 'Silent': 25, 'Splice_Site': 2, 'Translation_Start_Site': 0}\n",
            "KDM2A\n",
            "{'Gene symbol': 'KDM2A', \"3'Flank\": 0, \"3'UTR\": 41, \"5'Flank\": 0, \"5'UTR\": 5, 'Frame_Shift_Del': 6, 'Frame_Shift_Ins': 0, 'In_Frame_Del': 0, 'In_Frame_Ins': 0, 'Intron': 0, 'Missense_Mutation': 105, 'Nonsense_Mutation': 6, 'Nonstop_Mutation': 0, 'Silent': 44, 'Splice_Site': 3, 'Translation_Start_Site': 0}\n",
            "KDM2B\n",
            "{'Gene symbol': 'KDM2B', \"3'Flank\": 6, \"3'UTR\": 20, \"5'Flank\": 2, \"5'UTR\": 4, 'Frame_Shift_Del': 19, 'Frame_Shift_Ins': 2, 'In_Frame_Del': 2, 'In_Frame_Ins': 0, 'Intron': 45, 'Missense_Mutation': 159, 'Nonsense_Mutation': 8, 'Nonstop_Mutation': 0, 'Silent': 79, 'Splice_Site': 6, 'Translation_Start_Site': 0}\n",
            "KDM3A\n",
            "{'Gene symbol': 'KDM3A', \"3'Flank\": 0, \"3'UTR\": 8, \"5'Flank\": 0, \"5'UTR\": 4, 'Frame_Shift_Del': 8, 'Frame_Shift_Ins': 1, 'In_Frame_Del': 0, 'In_Frame_Ins': 1, 'Intron': 1, 'Missense_Mutation': 128, 'Nonsense_Mutation': 13, 'Nonstop_Mutation': 0, 'Silent': 43, 'Splice_Site': 4, 'Translation_Start_Site': 0}\n",
            "KDM3B\n",
            "{'Gene symbol': 'KDM3B', \"3'Flank\": 0, \"3'UTR\": 4, \"5'Flank\": 0, \"5'UTR\": 0, 'Frame_Shift_Del': 19, 'Frame_Shift_Ins': 3, 'In_Frame_Del': 4, 'In_Frame_Ins': 0, 'Intron': 1, 'Missense_Mutation': 208, 'Nonsense_Mutation': 26, 'Nonstop_Mutation': 0, 'Silent': 87, 'Splice_Site': 6, 'Translation_Start_Site': 0}\n",
            "KDM4A\n",
            "{'Gene symbol': 'KDM4A', \"3'Flank\": 0, \"3'UTR\": 14, \"5'Flank\": 0, \"5'UTR\": 2, 'Frame_Shift_Del': 5, 'Frame_Shift_Ins': 1, 'In_Frame_Del': 1, 'In_Frame_Ins': 0, 'Intron': 2, 'Missense_Mutation': 118, 'Nonsense_Mutation': 4, 'Nonstop_Mutation': 0, 'Silent': 26, 'Splice_Site': 5, 'Translation_Start_Site': 0}\n",
            "KDM4B\n",
            "{'Gene symbol': 'KDM4B', \"3'Flank\": 0, \"3'UTR\": 0, \"5'Flank\": 0, \"5'UTR\": 0, 'Frame_Shift_Del': 5, 'Frame_Shift_Ins': 2, 'In_Frame_Del': 0, 'In_Frame_Ins': 0, 'Intron': 18, 'Missense_Mutation': 128, 'Nonsense_Mutation': 4, 'Nonstop_Mutation': 0, 'Silent': 91, 'Splice_Site': 4, 'Translation_Start_Site': 0}\n",
            "KDM4C\n",
            "{'Gene symbol': 'KDM4C', \"3'Flank\": 0, \"3'UTR\": 25, \"5'Flank\": 0, \"5'UTR\": 1, 'Frame_Shift_Del': 8, 'Frame_Shift_Ins': 1, 'In_Frame_Del': 0, 'In_Frame_Ins': 0, 'Intron': 21, 'Missense_Mutation': 121, 'Nonsense_Mutation': 11, 'Nonstop_Mutation': 0, 'Silent': 57, 'Splice_Site': 5, 'Translation_Start_Site': 0}\n",
            "KDM4D\n",
            "{'Gene symbol': 'KDM4D', \"3'Flank\": 0, \"3'UTR\": 18, \"5'Flank\": 0, \"5'UTR\": 9, 'Frame_Shift_Del': 6, 'Frame_Shift_Ins': 2, 'In_Frame_Del': 2, 'In_Frame_Ins': 0, 'Intron': 0, 'Missense_Mutation': 78, 'Nonsense_Mutation': 5, 'Nonstop_Mutation': 1, 'Silent': 26, 'Splice_Site': 0, 'Translation_Start_Site': 0}\n",
            "KDM4E\n",
            "{'Gene symbol': 'KDM4E', \"3'Flank\": 0, \"3'UTR\": 2, \"5'Flank\": 0, \"5'UTR\": 5, 'Frame_Shift_Del': 1, 'Frame_Shift_Ins': 0, 'In_Frame_Del': 0, 'In_Frame_Ins': 0, 'Intron': 0, 'Missense_Mutation': 47, 'Nonsense_Mutation': 5, 'Nonstop_Mutation': 0, 'Silent': 24, 'Splice_Site': 0, 'Translation_Start_Site': 0}\n",
            "KDM1A\n",
            "{'Gene symbol': 'KDM1A', \"3'Flank\": 0, \"3'UTR\": 4, \"5'Flank\": 0, \"5'UTR\": 2, 'Frame_Shift_Del': 2, 'Frame_Shift_Ins': 2, 'In_Frame_Del': 0, 'In_Frame_Ins': 0, 'Intron': 1, 'Missense_Mutation': 66, 'Nonsense_Mutation': 9, 'Nonstop_Mutation': 0, 'Silent': 38, 'Splice_Site': 1, 'Translation_Start_Site': 0}\n",
            "KDM5A\n",
            "{'Gene symbol': 'KDM5A', \"3'Flank\": 0, \"3'UTR\": 66, \"5'Flank\": 0, \"5'UTR\": 5, 'Frame_Shift_Del': 16, 'Frame_Shift_Ins': 3, 'In_Frame_Del': 3, 'In_Frame_Ins': 0, 'Intron': 4, 'Missense_Mutation': 186, 'Nonsense_Mutation': 16, 'Nonstop_Mutation': 0, 'Silent': 69, 'Splice_Site': 4, 'Translation_Start_Site': 0}\n",
            "KDM5B\n",
            "{'Gene symbol': 'KDM5B', \"3'Flank\": 0, \"3'UTR\": 40, \"5'Flank\": 0, \"5'UTR\": 7, 'Frame_Shift_Del': 11, 'Frame_Shift_Ins': 0, 'In_Frame_Del': 0, 'In_Frame_Ins': 0, 'Intron': 2, 'Missense_Mutation': 202, 'Nonsense_Mutation': 26, 'Nonstop_Mutation': 0, 'Silent': 68, 'Splice_Site': 5, 'Translation_Start_Site': 0}\n",
            "KDM5C\n",
            "{'Gene symbol': 'KDM5C', \"3'Flank\": 1, \"3'UTR\": 10, \"5'Flank\": 0, \"5'UTR\": 3, 'Frame_Shift_Del': 16, 'Frame_Shift_Ins': 5, 'In_Frame_Del': 3, 'In_Frame_Ins': 1, 'Intron': 0, 'Missense_Mutation': 159, 'Nonsense_Mutation': 20, 'Nonstop_Mutation': 0, 'Silent': 67, 'Splice_Site': 6, 'Translation_Start_Site': 1}\n",
            "KDM5D\n",
            "{'Gene symbol': 'KDM5D', \"3'Flank\": 0, \"3'UTR\": 0, \"5'Flank\": 0, \"5'UTR\": 0, 'Frame_Shift_Del': 2, 'Frame_Shift_Ins': 0, 'In_Frame_Del': 0, 'In_Frame_Ins': 0, 'Intron': 0, 'Missense_Mutation': 34, 'Nonsense_Mutation': 4, 'Nonstop_Mutation': 0, 'Silent': 12, 'Splice_Site': 1, 'Translation_Start_Site': 0}\n",
            "KDM6A\n",
            "{'Gene symbol': 'KDM6A', \"3'Flank\": 0, \"3'UTR\": 37, \"5'Flank\": 3, \"5'UTR\": 1, 'Frame_Shift_Del': 47, 'Frame_Shift_Ins': 27, 'In_Frame_Del': 1, 'In_Frame_Ins': 1, 'Intron': 8, 'Missense_Mutation': 164, 'Nonsense_Mutation': 61, 'Nonstop_Mutation': 0, 'Silent': 43, 'Splice_Site': 43, 'Translation_Start_Site': 0}\n",
            "KDM6B\n",
            "{'Gene symbol': 'KDM6B', \"3'Flank\": 0, \"3'UTR\": 18, \"5'Flank\": 0, \"5'UTR\": 6, 'Frame_Shift_Del': 27, 'Frame_Shift_Ins': 4, 'In_Frame_Del': 1, 'In_Frame_Ins': 0, 'Intron': 1, 'Missense_Mutation': 215, 'Nonsense_Mutation': 8, 'Nonstop_Mutation': 0, 'Silent': 89, 'Splice_Site': 3, 'Translation_Start_Site': 0}\n",
            "KDM7A\n",
            "{'Gene symbol': 'KDM7A', \"3'Flank\": 0, \"3'UTR\": 7, \"5'Flank\": 0, \"5'UTR\": 0, 'Frame_Shift_Del': 12, 'Frame_Shift_Ins': 2, 'In_Frame_Del': 0, 'In_Frame_Ins': 0, 'Intron': 0, 'Missense_Mutation': 102, 'Nonsense_Mutation': 4, 'Nonstop_Mutation': 0, 'Silent': 42, 'Splice_Site': 3, 'Translation_Start_Site': 0}\n",
            "PHF2\n",
            "{'Gene symbol': 'PHF2', \"3'Flank\": 0, \"3'UTR\": 39, \"5'Flank\": 0, \"5'UTR\": 0, 'Frame_Shift_Del': 7, 'Frame_Shift_Ins': 5, 'In_Frame_Del': 0, 'In_Frame_Ins': 0, 'Intron': 0, 'Missense_Mutation': 130, 'Nonsense_Mutation': 9, 'Nonstop_Mutation': 0, 'Silent': 76, 'Splice_Site': 2, 'Translation_Start_Site': 0}\n",
            "PHF8\n",
            "{'Gene symbol': 'PHF8', \"3'Flank\": 0, \"3'UTR\": 44, \"5'Flank\": 0, \"5'UTR\": 2, 'Frame_Shift_Del': 3, 'Frame_Shift_Ins': 0, 'In_Frame_Del': 0, 'In_Frame_Ins': 0, 'Intron': 5, 'Missense_Mutation': 133, 'Nonsense_Mutation': 4, 'Nonstop_Mutation': 0, 'Silent': 61, 'Splice_Site': 5, 'Translation_Start_Site': 0}\n",
            "RIOX1\n",
            "{'Gene symbol': 'RIOX1', \"3'Flank\": 0, \"3'UTR\": 0, \"5'Flank\": 0, \"5'UTR\": 0, 'Frame_Shift_Del': 0, 'Frame_Shift_Ins': 0, 'In_Frame_Del': 0, 'In_Frame_Ins': 0, 'Intron': 92, 'Missense_Mutation': 5, 'Nonsense_Mutation': 0, 'Nonstop_Mutation': 0, 'Silent': 1, 'Splice_Site': 0, 'Translation_Start_Site': 0}\n",
            "HR\n",
            "{'Gene symbol': 'HR', \"3'Flank\": 0, \"3'UTR\": 9, \"5'Flank\": 0, \"5'UTR\": 4, 'Frame_Shift_Del': 11, 'Frame_Shift_Ins': 0, 'In_Frame_Del': 0, 'In_Frame_Ins': 0, 'Intron': 0, 'Missense_Mutation': 117, 'Nonsense_Mutation': 7, 'Nonstop_Mutation': 0, 'Silent': 60, 'Splice_Site': 3, 'Translation_Start_Site': 0}\n",
            "JMJD1C\n",
            "{'Gene symbol': 'JMJD1C', \"3'Flank\": 0, \"3'UTR\": 13, \"5'Flank\": 0, \"5'UTR\": 3, 'Frame_Shift_Del': 19, 'Frame_Shift_Ins': 6, 'In_Frame_Del': 3, 'In_Frame_Ins': 0, 'Intron': 7, 'Missense_Mutation': 289, 'Nonsense_Mutation': 26, 'Nonstop_Mutation': 0, 'Silent': 70, 'Splice_Site': 6, 'Translation_Start_Site': 0}\n",
            "UTY\n",
            "{'Gene symbol': 'UTY', \"3'Flank\": 0, \"3'UTR\": 1, \"5'Flank\": 0, \"5'UTR\": 0, 'Frame_Shift_Del': 3, 'Frame_Shift_Ins': 0, 'In_Frame_Del': 0, 'In_Frame_Ins': 0, 'Intron': 3, 'Missense_Mutation': 24, 'Nonsense_Mutation': 5, 'Nonstop_Mutation': 0, 'Silent': 5, 'Splice_Site': 1, 'Translation_Start_Site': 0}\n"
          ]
        }
      ]
    }
  ]
}