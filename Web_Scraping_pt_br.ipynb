{
  "nbformat": 4,
  "nbformat_minor": 0,
  "metadata": {
    "colab": {
      "provenance": [],
      "mount_file_id": "1OcVhxLyq3uyxmCLWGI8TVakL6IQ53zKN",
      "authorship_tag": "ABX9TyPP/mO+F3Tbk1abiHBHiGGT",
      "include_colab_link": true
    },
    "kernelspec": {
      "name": "python3",
      "display_name": "Python 3"
    },
    "language_info": {
      "name": "python"
    }
  },
  "cells": [
    {
      "cell_type": "markdown",
      "metadata": {
        "id": "view-in-github",
        "colab_type": "text"
      },
      "source": [
        "<a href=\"https://colab.research.google.com/github/s-vgustavo/python-ML-studies/blob/main/Web_Scraping_pt_br.ipynb\" target=\"_parent\"><img src=\"https://colab.research.google.com/assets/colab-badge.svg\" alt=\"Open In Colab\"/></a>"
      ]
    },
    {
      "cell_type": "markdown",
      "source": [
        "0. Importando as bibliotecas que vou utilizar"
      ],
      "metadata": {
        "id": "RnXiPBTxN8UG"
      }
    },
    {
      "cell_type": "code",
      "execution_count": null,
      "metadata": {
        "id": "EeFISIEMX6w2"
      },
      "outputs": [],
      "source": [
        "import requests\n",
        "from zipfile import ZipFile\n",
        "import os\n",
        "import pandas as pd\n",
        "print('Bibliotecas importadas.')"
      ]
    },
    {
      "cell_type": "markdown",
      "source": [
        "1. Baixando todos os arquivos"
      ],
      "metadata": {
        "id": "hhune1PuhKrG"
      }
    },
    {
      "cell_type": "code",
      "source": [
        "#função para baixar arquivos\n",
        "def baixar_arquivo(url, endereco):\n",
        "  resposta = requests.get(url)\n",
        "  if resposta.status_code == requests.codes.OK:\n",
        "    with open (endereco, 'wb') as novo_arquivo:\n",
        "      novo_arquivo.write(resposta.content)\n",
        "    print(f'Download finalizado. Salvo em {endereco}.')"
      ],
      "metadata": {
        "id": "96ORqcCuiq0s"
      },
      "execution_count": null,
      "outputs": []
    },
    {
      "cell_type": "code",
      "source": [
        "#loop que baixa todos os arquivos\n",
        "for i in range(2014, 2023):\n",
        "  for j in range(1, 13):\n",
        "    url = f'https://www.bcb.gov.br/content/estatisticas/rankingcambioinstituicoes/ESTATCAMBIF{i}{j:02d}-IF-{i}{j:02d}.zip'\n",
        "    endereco = f'/content/drive/MyDrive/Edumi/case4/ranking{i}{j:02d}.zip'\n",
        "    baixar_arquivo(url, endereco)\n",
        "\n",
        "print('Arquivos baixados.')"
      ],
      "metadata": {
        "id": "wj6zFnNGi1ep"
      },
      "execution_count": null,
      "outputs": []
    },
    {
      "cell_type": "markdown",
      "source": [
        "2. Acessando os arquivos de interesse"
      ],
      "metadata": {
        "id": "wOcnOgg2c0xj"
      }
    },
    {
      "cell_type": "code",
      "source": [
        "#extrair o conteudo dos zips\n",
        "for i in range(2014, 2023):\n",
        "  for j in range(1, 13):\n",
        "    arquivo = f'/content/drive/MyDrive/Edumi/case4/ranking{i}{j:02d}.zip'\n",
        "    if os.path.exists(arquivo) == True:\n",
        "      with ZipFile(arquivo, 'r') as zipObj:\n",
        "        # Extract all the contents of zip file in different directory\n",
        "        zipObj.extractall(f'/content/drive/MyDrive/Edumi/case4/rankingfiles{i}{j:02d}')\n",
        "        print(f'File is unzipped in rankingfiles{i}{j:02d} folder') \n",
        "\n",
        "print('Arquivos extraídos.')"
      ],
      "metadata": {
        "id": "AWFC4NZ7fA13"
      },
      "execution_count": null,
      "outputs": []
    },
    {
      "cell_type": "markdown",
      "source": [
        "3. Criando uma base de dados única"
      ],
      "metadata": {
        "id": "hi49NXdCVMA0"
      }
    },
    {
      "cell_type": "code",
      "source": [
        "#iterar sobre as pastas\n",
        "#em cada pasta, abrir o arquivo específico usando concatenação\n",
        "#transformar em dataframe e inserir um rastreador de data\n",
        "#armazenar ele na memória\n",
        "#juntar todos os dataframes em 1 só\n",
        "\n",
        "pdList = []\n",
        "pdList2 = []\n",
        "\n",
        "for i in range(2014, 2023):\n",
        "  for j in range(1, 13):\n",
        "    pasta_arquivo = f'/content/drive/MyDrive/Edumi/case4/rankingfiles{i}{j:02d}/Ranking Instituiç╞o {i} {j:02d}.csv'\n",
        "    if os.path.exists(pasta_arquivo) == True:\n",
        "      with open(pasta_arquivo, 'r', encoding='unicode_escape') as file:\n",
        "        df = pd.read_csv(file, header = None, sep = ';', on_bad_lines='skip')\n",
        "        df.insert(0, 'identificador', f'{i}{j:02d}')\n",
        "        pdList.append(df)\n",
        "\n",
        "print('DataFrame criado.')\n",
        "\n",
        "for x in pdList:\n",
        "  temp_df = pd.DataFrame(x) \n",
        "  temp_df = temp_df.iloc[7:]\n",
        "  temp_df = temp_df.iloc[:-6]\n",
        "  pdList2.append(temp_df)\n",
        "\n",
        "print('Limpeza inicial do DataFrame concluída.')\n",
        "\n",
        "df_final = pd.concat(pdList2, axis=0)\n",
        "print('Base de dados criada e unificada com sucesso.')\n",
        "print(df_final.head())"
      ],
      "metadata": {
        "id": "9wIkZ2Z-P53W"
      },
      "execution_count": null,
      "outputs": []
    },
    {
      "cell_type": "markdown",
      "source": [
        "4. Limpando a base de dados"
      ],
      "metadata": {
        "id": "Fjz7S-w4VVFI"
      }
    },
    {
      "cell_type": "code",
      "source": [
        "#adicionando um cabeçalho\n",
        "df_final.columns = ['identificador', 'rank', 'cod_instituicao', 'nome_instituicao', 'n_operacoes_export', 'valor_export', 'n_operacoes_import',\n",
        "              'valor_import', 'n_oper_transf_do_ext', 'valor_transf_do_ext', 'n_oper_transf_para_ext', 'valor_transf_para_ext',\n",
        "              'n_oper_mercado_primario', 'valor_mercado_primario', 'n_oper_interbank_compra', 'valor_interbank_compra', \n",
        "              'n_oper_interbank_venda', 'valor_interbank_venda', 'n_oper_total_interbank', 'valor_total_interbank',\n",
        "              'n_oper_total', 'valor_total', 'data', 'unknown1', 'unknown2', 'unknown3']"
      ],
      "metadata": {
        "id": "WpWwggCZQ6nM"
      },
      "execution_count": null,
      "outputs": []
    },
    {
      "cell_type": "code",
      "source": [
        "#resetando o index\n",
        "df_final.reset_index(inplace=True)\n",
        "df_final.head()"
      ],
      "metadata": {
        "id": "f8WFFqu5RmAN"
      },
      "execution_count": null,
      "outputs": []
    },
    {
      "cell_type": "code",
      "source": [
        "#cast no identificador para transformá-lo em datetime (vai me ajudar no Power BI)\n",
        "df_final['identificador'] = pd.to_datetime(df_final['identificador'], format='%Y%m')\n",
        "df_final.head()"
      ],
      "metadata": {
        "id": "wkYypCkcUKHR"
      },
      "execution_count": null,
      "outputs": []
    },
    {
      "cell_type": "code",
      "source": [
        "#salvando o arquivo final para criar um checkpoint\n",
        "print('Limpeza da base concluída com sucesso.')\n",
        "df_final.to_csv(r'/content/drive/MyDrive/Edumi/df_final.csv', index=False, sep=';')\n",
        "print('Progresso salvo na pasta Edumi do Google Drive.')"
      ],
      "metadata": {
        "id": "yYiA_MM7SPjP"
      },
      "execution_count": null,
      "outputs": []
    },
    {
      "cell_type": "markdown",
      "source": [
        "5. Criando visualizações para a dashboard"
      ],
      "metadata": {
        "id": "J5H0P1rilT85"
      }
    },
    {
      "cell_type": "code",
      "source": [
        "#1 - 5 maiores instituições de câmcio em agosto de 2022\n",
        "arq = '/content/drive/MyDrive/Edumi/df_final.csv'\n",
        "with open(arq, 'r', encoding='unicode_escape') as file:\n",
        "  file_df = pd.read_csv(file, sep=';')\n",
        "  df_5maiores_agosto_2022 = file_df[['identificador', 'rank', 'nome_instituicao']]\n",
        "  df_5maiores_agosto_2022 = df_5maiores_agosto_2022[(df_5maiores_agosto_2022['identificador'] > '2022-07-01')].head(5)\n",
        "  df_5maiores_agosto_2022.reset_index(drop=True, inplace=True)\n",
        "  print('Visualização das 5 maiores instituições de câmbio em agosto de 2022 criada.')\n",
        "  df_5maiores_agosto_2022.to_csv('/content/drive/MyDrive/Edumi/novas/5maiores_agosto22.csv', index=False, sep=';')\n",
        "  print(df_5maiores_agosto_2022)\n",
        "  print('Visualização salva.')"
      ],
      "metadata": {
        "colab": {
          "base_uri": "https://localhost:8080/"
        },
        "id": "swakjK1sXCRE",
        "outputId": "c0b12fcd-6d4c-488f-dd00-bb3b7e622d6a"
      },
      "execution_count": null,
      "outputs": [
        {
          "output_type": "stream",
          "name": "stdout",
          "text": [
            "Visualização das 5 maiores instituições de câmbio em agosto de 2022 criada.\n",
            "  identificador rank               nome_instituicao\n",
            "0    2022-08-01    1            ITAÃ UNIBANCO S.A.\n",
            "1    2022-08-01    2            BANCO CITIBANK S.A.\n",
            "2    2022-08-01    3         BANCO J.P. MORGAN S.A.\n",
            "3    2022-08-01    4  BANCO SANTANDER (BRASIL) S.A.\n",
            "4    2022-08-01    5           BANCO DO BRASIL S.A.\n",
            "Visualização salva.\n"
          ]
        }
      ]
    },
    {
      "cell_type": "code",
      "source": [
        "#2 - As 5 maiores instituições de câmbio no Brasil no ano de 2022\n",
        "\n",
        "arq = '/content/drive/MyDrive/Edumi/df_final.csv'\n",
        "with open(arq, 'r', encoding='unicode_escape') as file:\n",
        "  file_df = pd.read_csv(file, sep=';')\n",
        "  df_top5_2022 = file_df[['identificador', 'rank', 'nome_instituicao']]\n",
        "  df_top5_2022 = df_top5_2022[(df_top5_2022['identificador'] > '2022')]\n",
        "  df_top5_2022['rank'] = df_top5_2022['rank'].apply(pd.to_numeric, errors='coerce')\n",
        "  df_top5_2022 = df_top5_2022[['rank', 'nome_instituicao']].groupby('nome_instituicao').mean().sort_values(by='rank', ascending=True).head(5)\n",
        "  print('Visualização das 5 maiores instituições de câmbio de 2022 criada.')\n",
        "  df_top5_2022.to_csv('/content/drive/MyDrive/Edumi/novas/top5_2022.csv', index=False, sep=';')\n",
        "  print(df_top5_2022)\n",
        "  print('Visualização salva.')"
      ],
      "metadata": {
        "colab": {
          "base_uri": "https://localhost:8080/"
        },
        "id": "8LrxJ2v2Zw7i",
        "outputId": "b5ee460a-6104-4bd1-c8b1-9741ba7a13b7"
      },
      "execution_count": null,
      "outputs": [
        {
          "output_type": "stream",
          "name": "stdout",
          "text": [
            "Visualização das 5 maiores instituições de câmbio de 2022 criada.\n",
            "                                rank\n",
            "nome_instituicao                    \n",
            "BANCO CITIBANK S.A.            1.875\n",
            "BANCO SANTANDER (BRASIL) S.A.  2.375\n",
            "ITAÃ UNIBANCO S.A.            2.500\n",
            "BANCO J.P. MORGAN S.A.         3.500\n",
            "BANCO DO BRASIL S.A.           5.750\n",
            "Visualização salva.\n"
          ]
        }
      ]
    },
    {
      "cell_type": "code",
      "source": [
        "#3 A evolução das instituições nos últimos 12 meses\n",
        "\n",
        "pdList = []\n",
        "\n",
        "for j in range(1, 9): #pegando os de 2022\n",
        "    pasta_arquivo = f'/content/drive/MyDrive/Edumi/case4/rankingfiles2022{j:02d}/Ranking Instituiç╞o 2022 {j:02d}.csv'\n",
        "    if os.path.exists(pasta_arquivo) == True:\n",
        "      with open(pasta_arquivo, 'r', encoding='latin1') as file:\n",
        "        df = pd.read_csv(file, sep=';', skiprows=6)\n",
        "        df.insert(0, 'identificador', f'2022{j:02d}')\n",
        "        df.drop(index=df.index[-1],axis=0,inplace=True)\n",
        "        df.columns = df.columns.str.strip()\n",
        "        pdList.append(df)\n",
        "\n",
        "for k in range(8, 13): #pegando os de 2021\n",
        "    pasta_arquivo = f'/content/drive/MyDrive/Edumi/case4/rankingfiles2021{j:02d}/Ranking Instituiç╞o 2021 {j:02d}.csv'\n",
        "    if os.path.exists(pasta_arquivo) == True:\n",
        "      with open(pasta_arquivo, 'r', encoding='latin1') as file:\n",
        "        df = pd.read_csv(file, sep=';', skiprows=6)\n",
        "        df.insert(0, 'identificador', f'2021{j:02d}')\n",
        "        df.drop(index=df.index[-1],axis=0,inplace=True)\n",
        "        df.columns = df.columns.str.strip()\n",
        "        pdList.append(df)\n",
        "\n",
        "df12meses = pd.concat(pdList, axis=0)\n",
        "df12meses.columns = ['identificador', 'rank', 'cnpj', 'nome_inst', 'export_quant', 'export_valor',\n",
        "                    'import_quant', 'import_valor', 'transf_ext_quant', 'transf_ext_valor',\n",
        "                    'transf_p_ext_quant', 'transf_p_ext_valor', 'total_primario_quant',\n",
        "                     'total_primario_valor', 'interbanc_compra_quant',\n",
        "                    'interbanc_compra_valor', 'interbanc_venda_quant', 'interbanc_venda_valor',\n",
        "                    'total_interbanc_quant', 'total_interbanc_valor', 'total_quant', 'total_valor', 'unknown']\n",
        "\n",
        "df12meses['rank'] = df12meses['rank'].apply(pd.to_numeric, errors='coerce')\n",
        "df12meses['rank'].dropna(axis=0, how='any')\n",
        "df12meses['identificador'] = pd.to_datetime(df12meses['identificador'], format='%Y%m')\n",
        "df12meses_view = df12meses[['identificador', 'rank', 'nome_inst']].groupby('identificador', 'nome_inst')\n",
        "\n",
        "#df12meses_view.to_csv('/content/drive/MyDrive/Edumi/visualizacoes case 4/rank12meses.csv', index=False)\n",
        "\n",
        "print(df12meses.head())"
      ],
      "metadata": {
        "id": "0YGPiYE2pS4M"
      },
      "execution_count": null,
      "outputs": []
    },
    {
      "cell_type": "code",
      "source": [
        "#4 Quantos contratos de Câmbio já foram fechados esse ano a cada mês\n",
        "#fail\n",
        "pdList = []\n",
        "\n",
        "for j in range(1, 9):\n",
        "    pasta_arquivo = f'/content/drive/MyDrive/Edumi/case4/rankingfiles2022{j:02d}/Ranking Instituiç╞o 2022 {j:02d}.csv'\n",
        "    if os.path.exists(pasta_arquivo) == True:\n",
        "      with open(pasta_arquivo, 'r', encoding='latin1') as file:\n",
        "        df = pd.read_csv(file, sep=';', skiprows=6)\n",
        "        df.insert(0, 'identificador', f'2022{j:02d}')\n",
        "        df.drop(index=df.index[-1],axis=0,inplace=True)\n",
        "        df.columns = df.columns.str.strip()\n",
        "        pdList.append(df)\n",
        "  \n",
        "dfcontratos2022 = pd.concat(pdList, axis=0)\n",
        "dfcontratos2022.columns = ['identificador', 'rank', 'cnpj', 'nome_inst', 'export_quant', 'export_valor',\n",
        "                    'import_quant', 'import_valor', 'transf_ext_quant', 'transf_ext_valor',\n",
        "                    'transf_p_ext_quant', 'transf_p_ext_valor', 'total_primario_quant',\n",
        "                     'total_primario_valor', 'interbanc_compra_quant',\n",
        "                    'interbanc_compra_valor', 'interbanc_venda_quant', 'interbanc_venda_valor',\n",
        "                    'total_interbanc_quant', 'total_interbanc_valor', 'total_quant', 'total_valor', 'unknown']\n",
        "\n",
        "dfcontratos2022[['identificador', 'rank', 'total_quant']] = dfcontratos2022[['identificador', 'rank', 'total_quant']].apply(pd.to_numeric, errors='coerce')\n",
        "dfcontratos2022[['identificador', 'rank', 'total_quant']].dropna(axis=0, how='any')\n",
        "dfcontratos2022['identificador'] = pd.to_datetime(dfcontratos2022['identificador'], format='%Y%m')\n",
        "\n",
        "dfcontratos2022['total_quant'].groupby(by = 'identificador')\n",
        "#dfcontratos2022.head()"
      ],
      "metadata": {
        "id": "Wc6vNNTkEtSd"
      },
      "execution_count": null,
      "outputs": []
    },
    {
      "cell_type": "code",
      "source": [
        "#5 Qual das modalidades de Câmbio (Compra, Venda, Exportação, Importação) é a maior no ano atual? Essa modalidade é a maior desde quando?\n",
        "\n",
        "pdList = []\n",
        "\n",
        "for j in range(1, 9):\n",
        "    pasta_arquivo = f'/content/drive/MyDrive/Edumi/case4/rankingfiles2022{j:02d}/Ranking Instituiç╞o 2022 {j:02d}.csv'\n",
        "    if os.path.exists(pasta_arquivo) == True:\n",
        "      with open(pasta_arquivo, 'r', encoding='latin1') as file:\n",
        "        df = pd.read_csv(file, sep=';', skiprows=6)\n",
        "        df.insert(0, 'identificador', f'2022{j:02d}')\n",
        "        df.drop(index=df.index[-1],axis=0,inplace=True)\n",
        "        df.columns = df.columns.str.strip()\n",
        "        pdList.append(df)\n",
        "  \n",
        "dfmodalidades = pd.concat(pdList, axis=0)\n",
        "dfmodalidades.columns = ['identificador', 'rank', 'cnpj', 'nome_inst', 'export_quant', 'export_valor',\n",
        "                    'import_quant', 'import_valor', 'transf_ext_quant', 'transf_ext_valor',\n",
        "                    'transf_p_ext_quant', 'transf_p_ext_valor', 'total_primario_quant',\n",
        "                     'total_primario_valor', 'interbanc_compra_quant',\n",
        "                    'interbanc_compra_valor', 'interbanc_venda_quant', 'interbanc_venda_valor',\n",
        "                    'total_interbanc_quant', 'total_interbanc_valor', 'total_quant', 'total_valor', 'unknown']\n",
        "\n",
        "dfmodalidades[['transf_p_ext_quant']] = dfmodalidades[['transf_p_ext_quant']].apply(pd.to_numeric, errors='coerce')\n",
        "dfmodalidades[['transf_p_ext_quant']].dropna(axis=0, how='any')\n",
        "\n",
        "print(dfmodalidades[['export_quant', 'import_quant', 'transf_ext_quant', 'transf_p_ext_quant']].sum())\n",
        "\n",
        "dfmodalidades[['export_quant', 'import_quant', 'transf_ext_quant', 'transf_p_ext_quant']].sum().to_csv('/content/drive/MyDrive/Edumi/visualizacoes case 4/modalidades12meses.csv')\n"
      ],
      "metadata": {
        "colab": {
          "base_uri": "https://localhost:8080/"
        },
        "id": "rUSPt1RMME--",
        "outputId": "156d41ea-61bd-4ebe-908b-ab0016fb1874"
      },
      "execution_count": null,
      "outputs": [
        {
          "output_type": "stream",
          "name": "stdout",
          "text": [
            "export_quant           73519.440\n",
            "import_quant          140283.336\n",
            "transf_ext_quant      149585.078\n",
            "transf_p_ext_quant    252804.937\n",
            "dtype: float64\n"
          ]
        }
      ]
    },
    {
      "cell_type": "markdown",
      "source": [
        "3. Concatenando os arquivos em um único grande arquivo"
      ],
      "metadata": {
        "id": "_Z5WECGAdEaX"
      }
    },
    {
      "cell_type": "markdown",
      "source": [
        "4. Criando um checkpoint para não perder o df original"
      ],
      "metadata": {
        "id": "WT0le9BUjnbc"
      }
    },
    {
      "cell_type": "code",
      "source": [
        "#salvando o df1 para ter um checkpoint do trabalho\n",
        "df1.to_csv(r'/content/drive/MyDrive/Edumi.csv', index=False)"
      ],
      "metadata": {
        "id": "aP0xRMVqf3-B"
      },
      "execution_count": null,
      "outputs": []
    },
    {
      "cell_type": "code",
      "source": [
        "#criando uma cópia do df para garantir que não vamos alterá-lo\n",
        "df2 = df1.copy()\n",
        "df2.head()"
      ],
      "metadata": {
        "id": "_j4Ecq2CozEk"
      },
      "execution_count": null,
      "outputs": []
    },
    {
      "cell_type": "markdown",
      "source": [
        "5. Análise exploratória"
      ],
      "metadata": {
        "id": "orHWuedzmKo6"
      }
    },
    {
      "cell_type": "code",
      "source": [
        "#convertendo a coluna de identificador para datetime, assim eu vou poder filtrar por data\n",
        "df2['identificador'] = pd.to_datetime(df['identificador'], format='%Y%m')\n",
        "df2.dtypes"
      ],
      "metadata": {
        "colab": {
          "base_uri": "https://localhost:8080/"
        },
        "id": "4LRPxDWUkzWR",
        "outputId": "c94eb1bd-6b1f-4dd0-a120-d26b8c6cfc9c"
      },
      "execution_count": null,
      "outputs": [
        {
          "output_type": "execute_result",
          "data": {
            "text/plain": [
              "identificador                 datetime64[ns]\n",
              "Rank                                  object\n",
              "Código Instit.                        object\n",
              "Nome da Instituição                   object\n",
              "Exportação                            object\n",
              "Unnamed: 4                            object\n",
              "Importação                            object\n",
              "Unnamed: 6                            object\n",
              "Transferência do Exterior             object\n",
              "Unnamed: 8                            object\n",
              "Transferência p/ Exterior             object\n",
              "Unnamed: 10                           object\n",
              "Total do Primário                     object\n",
              "Unnamed: 12                           object\n",
              "Interbancário - Compra                object\n",
              "Unnamed: 14                           object\n",
              "Interbancário - Venda                 object\n",
              "Unnamed: 16                           object\n",
              "Total do Interbancário                object\n",
              "Unnamed: 18                           object\n",
              "Total                                 object\n",
              "Unnamed: 20                           object\n",
              "Unnamed: 21                          float64\n",
              "Unnamed: 22                          float64\n",
              "Unnamed: 23                          float64\n",
              "Unnamed: 24                          float64\n",
              "CNPJ da InstituiÃ§Ã£o                 object\n",
              "Nome da InstituiÃ§Ã£o                 object\n",
              "ExportaÃ§Ã£o                          object\n",
              "ImportaÃ§Ã£o                          object\n",
              "TransferÃªncia do Exterior            object\n",
              "TransferÃªncia p/ Exterior            object\n",
              "Total do PrimÃ¡rio                    object\n",
              "InterbancÃ¡rio - Compra               object\n",
              "InterbancÃ¡rio - Venda                object\n",
              "Total do InterbancÃ¡rio               object\n",
              "CNPJ da Instituição                   object\n",
              "dtype: object"
            ]
          },
          "metadata": {},
          "execution_count": 68
        }
      ]
    },
    {
      "cell_type": "code",
      "source": [
        "df2.info()"
      ],
      "metadata": {
        "colab": {
          "base_uri": "https://localhost:8080/"
        },
        "id": "XZsgUSebmQiu",
        "outputId": "99c051df-aa52-4121-c574-ba11fab6fa7d"
      },
      "execution_count": null,
      "outputs": [
        {
          "output_type": "stream",
          "name": "stdout",
          "text": [
            "<class 'pandas.core.frame.DataFrame'>\n",
            "Int64Index: 17165 entries, 0 to 164\n",
            "Data columns (total 49 columns):\n",
            " #   Column                          Non-Null Count  Dtype         \n",
            "---  ------                          --------------  -----         \n",
            " 0   identificador                   16003 non-null  datetime64[ns]\n",
            " 1   Rank                            16606 non-null  object        \n",
            " 2   C¢digo Instit.                  1393 non-null   object        \n",
            " 3   Nome da InstituiÆo             1401 non-null   object        \n",
            " 4   ExportaÆo                      750 non-null    object        \n",
            " 5   Unnamed: 4                      10163 non-null  object        \n",
            " 6   ImportaÆo                      915 non-null    object        \n",
            " 7   Unnamed: 6                      11472 non-null  object        \n",
            " 8   Transferncia do Exterior       1318 non-null   object        \n",
            " 9   Unnamed: 8                      15698 non-null  object        \n",
            " 10  Transferncia p/ Exterior       1390 non-null   object        \n",
            " 11  Unnamed: 10                     16205 non-null  object        \n",
            " 12  Total do Mercado Prim rio       1409 non-null   object        \n",
            " 13  Unnamed: 12                     16489 non-null  object        \n",
            " 14  Interbanc rio - Compra          1326 non-null   object        \n",
            " 15  Unnamed: 14                     15562 non-null  object        \n",
            " 16  Interbanc rio - Venda           1124 non-null   object        \n",
            " 17  Unnamed: 16                     14127 non-null  object        \n",
            " 18  Total do Mercado Interbanc rio  1409 non-null   object        \n",
            " 19  Unnamed: 18                     16489 non-null  object        \n",
            " 20  Total                           16507 non-null  object        \n",
            " 21  Unnamed: 20                     16507 non-null  object        \n",
            " 22  Unnamed: 21                     0 non-null      float64       \n",
            " 23  Unnamed: 22                     0 non-null      float64       \n",
            " 24  Unnamed: 23                     0 non-null      float64       \n",
            " 25  Unnamed: 24                     0 non-null      float64       \n",
            " 26  Código Instit.                  12311 non-null  object        \n",
            " 27  Nome da Instituição             14760 non-null  object        \n",
            " 28  Exportação                      9304 non-null   object        \n",
            " 29  Importação                      10438 non-null  object        \n",
            " 30  Transferência do Exterior       14227 non-null  object        \n",
            " 31  Transferência p/ Exterior       14655 non-null  object        \n",
            " 32  Total do Mercado Primário       1979 non-null   object        \n",
            " 33  Interbancário - Compra          14086 non-null  object        \n",
            " 34  Interbancário - Venda           12859 non-null  object        \n",
            " 35  Total do Mercado Interbancário  1979 non-null   object        \n",
            " 36  Total do Primário               12939 non-null  object        \n",
            " 37  Total do Interbancário          12939 non-null  object        \n",
            " 38  CNPJ da InstituiÃ§Ã£o           160 non-null    object        \n",
            " 39  Nome da InstituiÃ§Ã£o           160 non-null    object        \n",
            " 40  ExportaÃ§Ã£o                    109 non-null    object        \n",
            " 41  ImportaÃ§Ã£o                    119 non-null    object        \n",
            " 42  TransferÃªncia do Exterior      153 non-null    object        \n",
            " 43  TransferÃªncia p/ Exterior      160 non-null    object        \n",
            " 44  Total do PrimÃ¡rio              162 non-null    object        \n",
            " 45  InterbancÃ¡rio - Compra         150 non-null    object        \n",
            " 46  InterbancÃ¡rio - Venda          144 non-null    object        \n",
            " 47  Total do InterbancÃ¡rio         162 non-null    object        \n",
            " 48  CNPJ da Instituição             2384 non-null   object        \n",
            "dtypes: datetime64[ns](1), float64(4), object(44)\n",
            "memory usage: 6.5+ MB\n"
          ]
        }
      ]
    },
    {
      "cell_type": "code",
      "source": [
        "pdList = []\n",
        "\n",
        "for i in range(2021, 2022):\n",
        "  for j in range(1, 6):\n",
        "    pasta_arquivo = f'/content/drive/MyDrive/Edumi/case4/rankingfiles{i}{j:02d}/Ranking Instituiç╞o {i} {j:02d}.csv'\n",
        "    if os.path.exists(pasta_arquivo) == True:\n",
        "      with open(pasta_arquivo, 'r', encoding='latin1') as file:\n",
        "        df = pd.read_csv(file, sep=';', skiprows=5, on_bad_lines='skip')\n",
        "        df.insert(0, 'identificador', f'{i}{j:02d}')\n",
        "        df.columns = df.columns.str.strip()\n",
        "        pdList.append(df)\n",
        "  \n",
        "df3 = pd.concat(pdList, axis=0)\n",
        "print(df3.info())"
      ],
      "metadata": {
        "colab": {
          "base_uri": "https://localhost:8080/"
        },
        "id": "Y2xnIGkVvWOk",
        "outputId": "6a18e613-f1cb-42f8-b779-1a4769c54163"
      },
      "execution_count": null,
      "outputs": [
        {
          "output_type": "stream",
          "name": "stdout",
          "text": [
            "<class 'pandas.core.frame.DataFrame'>\n",
            "Int64Index: 826 entries, 0 to 160\n",
            "Data columns (total 24 columns):\n",
            " #   Column                                                                                                                                                                                                                                  Non-Null Count  Dtype  \n",
            "---  ------                                                                                                                                                                                                                                  --------------  -----  \n",
            " 0   identificador                                                                                                                                                                                                                           826 non-null    object \n",
            " 1   Rank                                                                                                                                                                                                                                    653 non-null    object \n",
            " 2   Código Instit.                                                                                                                                                                                                                          637 non-null    object \n",
            " 3   Nome da Instituição                                                                                                                                                                                                                     637 non-null    object \n",
            " 4   Exportação                                                                                                                                                                                                                              432 non-null    object \n",
            " 5   Unnamed: 4                                                                                                                                                                                                                              432 non-null    object \n",
            " 6   Importação                                                                                                                                                                                                                              465 non-null    object \n",
            " 7   Unnamed: 6                                                                                                                                                                                                                              465 non-null    object \n",
            " 8   Transferência do Exterior                                                                                                                                                                                                               619 non-null    object \n",
            " 9   Unnamed: 8                                                                                                                                                                                                                              619 non-null    object \n",
            " 10  Transferência p/ Exterior                                                                                                                                                                                                               636 non-null    object \n",
            " 11  Unnamed: 10                                                                                                                                                                                                                             636 non-null    object \n",
            " 12  Total do Primário                                                                                                                                                                                                                       645 non-null    object \n",
            " 13  Unnamed: 12                                                                                                                                                                                                                             645 non-null    object \n",
            " 14  Interbancário - Compra                                                                                                                                                                                                                  601 non-null    object \n",
            " 15  Unnamed: 14                                                                                                                                                                                                                             601 non-null    object \n",
            " 16  Interbancário - Venda                                                                                                                                                                                                                   578 non-null    object \n",
            " 17  Unnamed: 16                                                                                                                                                                                                                             578 non-null    object \n",
            " 18  Total do Interbancário                                                                                                                                                                                                                  645 non-null    object \n",
            " 19  Unnamed: 18                                                                                                                                                                                                                             645 non-null    object \n",
            " 20  Total                                                                                                                                                                                                                                   651 non-null    object \n",
            " 21  Unnamed: 20                                                                                                                                                                                                                             651 non-null    object \n",
            " 22  Unnamed: 21                                                                                                                                                                                                                             0 non-null      float64\n",
            " 23  4,BANCO J.P. MORGAN S.A., 310 , 829.783.521 , 2.705 , 732.664.926 , 1.135 , 3.591.492.473 , 2.070 , 3.290.217.229 , 6.220 , 8.444.158.149 , 221 , 2.092.347.628 , 364 , 4.327.171.768 , 585 , 6.419.519.396 , 6.805 , 14.863.677.545 ,  161 non-null    object \n",
            "dtypes: float64(1), object(23)\n",
            "memory usage: 161.3+ KB\n",
            "None\n"
          ]
        }
      ]
    },
    {
      "cell_type": "code",
      "source": [
        "#tratando 2021 05\n",
        "arq = f'/content/drive/MyDrive/Edumi/case4/rankingfiles202105/Ranking Instituiç╞o 2021 05.csv'\n",
        "with open(arq, 'r', encoding='latin1') as file:\n",
        "  file_df = pd.read_csv(file, sep=';', skiprows=5)\n",
        "  file_df.columns = file_df.columns.str.strip()\n",
        "  file_df.pop('CNPJ da InstituiÃ§Ã£o')\n",
        "  print(file_df.head())\n",
        "  file_df.to_csv(arq, index=False)"
      ],
      "metadata": {
        "id": "exMlb-wtbmXL"
      },
      "execution_count": null,
      "outputs": []
    },
    {
      "cell_type": "code",
      "source": [
        "def check_row(row):\n",
        "    if isinstance(row[0], int) == True:\n",
        "        return True\n",
        "    return False\n",
        "\n",
        "    #skiprows= lambda x:check_row(x))"
      ],
      "metadata": {
        "id": "afV6rWhDSSki"
      },
      "execution_count": null,
      "outputs": []
    },
    {
      "cell_type": "code",
      "source": [
        "#juntar dataframes"
      ],
      "metadata": {
        "id": "oV6DRhlwpDIg"
      },
      "execution_count": null,
      "outputs": []
    },
    {
      "cell_type": "code",
      "source": [
        "def baixar_arquivo(url, endereco):\n",
        "  resposta = requests.get(url)\n",
        "  if resposta.status_code == requests.codes.OK:\n",
        "    with open (endereco, 'wb') as novo_arquivo:\n",
        "      novo_arquivo.write(resposta.content)\n",
        "    print(f'Download finalizado. Salvo em {endereco}.')\n",
        "  else:\n",
        "    resposta.raise_for_status()\n",
        "\n",
        "\n",
        "if __name__ == \"__main__\":\n",
        "  BASE_URL = 'link'\n",
        "  OUTPUT_DIR = 'output'\n",
        "\n",
        "  for i in range(1, quantos?):\n",
        "    nome_arquivo = os.path.join(OUTPUT_DIR, 'nome do arquivo{}.csv'.format(i))\n",
        "    baixar_arquivo(BASE_URL.format(i), 'test.pdf')"
      ],
      "metadata": {
        "id": "l0pKJL0Eamau"
      },
      "execution_count": null,
      "outputs": []
    },
    {
      "cell_type": "code",
      "source": [
        "import pandas as pd"
      ],
      "metadata": {
        "id": "_5xvqmWyfOM2"
      },
      "execution_count": null,
      "outputs": []
    },
    {
      "cell_type": "code",
      "source": [
        "with open('/content/temp/Ranking Instituiç╞o 2021 06.csv', 'r', encoding='latin1') as csv:\n",
        "  df = pd.read_csv(csv, sep=',', encoding='utf-8')\n",
        "  df.head()"
      ],
      "metadata": {
        "id": "GRJ8g2tMfRY-"
      },
      "execution_count": null,
      "outputs": []
    }
  ]
}